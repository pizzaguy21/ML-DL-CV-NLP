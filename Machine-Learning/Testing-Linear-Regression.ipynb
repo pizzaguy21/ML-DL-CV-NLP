{
  "nbformat": 4,
  "nbformat_minor": 0,
  "metadata": {
    "colab": {
      "provenance": []
    },
    "kernelspec": {
      "name": "python3",
      "display_name": "Python 3"
    },
    "language_info": {
      "name": "python"
    }
  },
  "cells": [
    {
      "cell_type": "code",
      "source": [
        "from google.colab import drive\n",
        "drive.mount('/content/drive')"
      ],
      "metadata": {
        "colab": {
          "base_uri": "https://localhost:8080/"
        },
        "id": "bfJ9U8PEHhfz",
        "outputId": "afbe8450-bfa6-4ac6-9814-e3ba3fc54186"
      },
      "execution_count": 4,
      "outputs": [
        {
          "output_type": "stream",
          "name": "stdout",
          "text": [
            "Drive already mounted at /content/drive; to attempt to forcibly remount, call drive.mount(\"/content/drive\", force_remount=True).\n"
          ]
        }
      ]
    },
    {
      "cell_type": "code",
      "source": [
        "import pandas as pd\n",
        "import numpy as np\n",
        "from sklearn.model_selection import train_test_split\n",
        "from sklearn.preprocessing import StandardScaler\n",
        "from sklearn.linear_model import LinearRegression\n",
        "from sklearn.svm import SVR\n",
        "from sklearn.metrics import mean_absolute_error, mean_squared_error, r2_score"
      ],
      "metadata": {
        "id": "NvZsop_PHhiS"
      },
      "execution_count": 5,
      "outputs": []
    },
    {
      "cell_type": "code",
      "source": [
        "path = \"/content/drive/MyDrive/Real estate.csv\"\n",
        "df = pd.read_csv(path)"
      ],
      "metadata": {
        "id": "T_PHK7UpHhk0"
      },
      "execution_count": 6,
      "outputs": []
    },
    {
      "cell_type": "code",
      "source": [
        "print(\"Kolom dalam dataset:\", df.columns.tolist())"
      ],
      "metadata": {
        "colab": {
          "base_uri": "https://localhost:8080/"
        },
        "id": "BrHEfu5jHhnY",
        "outputId": "6cbb0918-2552-4c5d-ad08-ba37e890d8b2"
      },
      "execution_count": 7,
      "outputs": [
        {
          "output_type": "stream",
          "name": "stdout",
          "text": [
            "Kolom dalam dataset: ['No', 'X1 transaction date', 'X2 house age', 'X3 distance to the nearest MRT station', 'X4 number of convenience stores', 'X5 latitude', 'X6 longitude', 'Y house price of unit area']\n"
          ]
        }
      ]
    },
    {
      "cell_type": "code",
      "source": [
        "X = df.drop(columns=[\"No\", \"Y house price of unit area\"])\n",
        "y = df[\"Y house price of unit area\"]\n",
        "scaler = StandardScaler()\n",
        "X_scaled = scaler.fit_transform(X)"
      ],
      "metadata": {
        "id": "HDr76bvuHhqA"
      },
      "execution_count": 8,
      "outputs": []
    },
    {
      "cell_type": "code",
      "source": [
        "def evaluate_model(model, X_test, y_test, kernel=None):\n",
        "    y_pred = model.predict(X_test)\n",
        "    mae = mean_absolute_error(y_test, y_pred)\n",
        "    rmse = np.sqrt(mean_squared_error(y_test, y_pred))\n",
        "    r2 = r2_score(y_test, y_pred)\n",
        "    print(f\"Kernel: {kernel if kernel else 'Linear Regression'}\")\n",
        "    print(f\"MAE: {mae:.3f}\")\n",
        "    print(f\"RMSE: {rmse:.3f}\")\n",
        "    print(f\"R²: {r2:.6f}\\n\")\n",
        "    return kernel if kernel else 'Linear', mae, rmse, r2"
      ],
      "metadata": {
        "id": "dbLAU8InHhtO"
      },
      "execution_count": 9,
      "outputs": []
    },
    {
      "cell_type": "code",
      "source": [
        "def run_experiments(X, y, split_ratio):\n",
        "    print(f\"\\n===== SPLIT: {int(split_ratio * 100)}% : {int((1 - split_ratio) * 100)}% =====\")\n",
        "    X_train, X_test, y_train, y_test = train_test_split(X, y, test_size=1 - split_ratio, random_state=42)\n",
        "\n",
        "    results = []\n",
        "\n",
        "    lr = LinearRegression()\n",
        "    lr.fit(X_train, y_train)\n",
        "    results.append(evaluate_model(lr, X_test, y_test))\n",
        "\n",
        "    svr_lin = SVR(kernel='linear')\n",
        "    svr_lin.fit(X_train, y_train)\n",
        "    results.append(evaluate_model(svr_lin, X_test, y_test, kernel='linear'))\n",
        "\n",
        "    svr_rbf = SVR(kernel='rbf')\n",
        "    svr_rbf.fit(X_train, y_train)\n",
        "    results.append(evaluate_model(svr_rbf, X_test, y_test, kernel='rbf'))\n",
        "\n",
        "    svr_poly = SVR(kernel='poly', degree=3)\n",
        "    svr_poly.fit(X_train, y_train)\n",
        "    results.append(evaluate_model(svr_poly, X_test, y_test, kernel='poly'))\n",
        "\n",
        "    return results\n",
        "\n",
        "results_70 = run_experiments(X_scaled, y, 0.7)\n",
        "results_80 = run_experiments(X_scaled, y, 0.8)\n",
        "\n",
        "all_results = pd.DataFrame(results_70 + results_80, columns=[\"Kernel\", \"MAE\", \"RMSE\", \"R2\"])\n",
        "all_results[\"Split\"] = [\"70:30\"] * 4 + [\"80:20\"] * 4\n",
        "\n",
        "print(\"\\n=== RINGKASAN HASIL EKSPERIMEN ===\")\n",
        "print(all_results)"
      ],
      "metadata": {
        "colab": {
          "base_uri": "https://localhost:8080/"
        },
        "id": "QgEVJAXRHhvp",
        "outputId": "d8aa20a3-6239-41b2-cd49-f4bf39fd3ab5"
      },
      "execution_count": 10,
      "outputs": [
        {
          "output_type": "stream",
          "name": "stdout",
          "text": [
            "\n",
            "===== SPLIT: 70% : 30% =====\n",
            "Kernel: Linear Regression\n",
            "MAE: 6.185\n",
            "RMSE: 8.577\n",
            "R²: 0.560064\n",
            "\n",
            "Kernel: linear\n",
            "MAE: 5.986\n",
            "RMSE: 8.559\n",
            "R²: 0.561941\n",
            "\n",
            "Kernel: rbf\n",
            "MAE: 5.986\n",
            "RMSE: 8.396\n",
            "R²: 0.578437\n",
            "\n",
            "Kernel: poly\n",
            "MAE: 7.700\n",
            "RMSE: 9.867\n",
            "R²: 0.417859\n",
            "\n",
            "\n",
            "===== SPLIT: 80% : 19% =====\n",
            "Kernel: Linear Regression\n",
            "MAE: 5.305\n",
            "RMSE: 7.315\n",
            "R²: 0.681058\n",
            "\n",
            "Kernel: linear\n",
            "MAE: 5.308\n",
            "RMSE: 7.416\n",
            "R²: 0.672187\n",
            "\n",
            "Kernel: rbf\n",
            "MAE: 5.487\n",
            "RMSE: 7.598\n",
            "R²: 0.655871\n",
            "\n",
            "Kernel: poly\n",
            "MAE: 7.054\n",
            "RMSE: 8.732\n",
            "R²: 0.545483\n",
            "\n",
            "\n",
            "=== RINGKASAN HASIL EKSPERIMEN ===\n",
            "   Kernel       MAE      RMSE        R2  Split\n",
            "0  Linear  6.184836  8.577201  0.560064  70:30\n",
            "1  linear  5.986379  8.558878  0.561941  70:30\n",
            "2     rbf  5.986438  8.396188  0.578437  70:30\n",
            "3    poly  7.699818  9.866543  0.417859  70:30\n",
            "4  Linear  5.305356  7.314754  0.681058  80:20\n",
            "5  linear  5.307568  7.415777  0.672187  80:20\n",
            "6     rbf  5.486650  7.598092  0.655871  80:20\n",
            "7    poly  7.054102  8.732101  0.545483  80:20\n"
          ]
        }
      ]
    }
  ]
}